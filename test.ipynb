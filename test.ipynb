{
 "cells": [
  {
   "cell_type": "code",
   "execution_count": 1,
   "id": "b73ff813",
   "metadata": {
    "ExecuteTime": {
     "end_time": "2022-04-15T11:30:28.592984Z",
     "start_time": "2022-04-15T11:30:27.581863Z"
    }
   },
   "outputs": [
    {
     "data": {
      "text/plain": [
       "SVC()"
      ]
     },
     "execution_count": 1,
     "metadata": {},
     "output_type": "execute_result"
    }
   ],
   "source": [
    "from sklearn import svm\n",
    "X = [[0, 0], [1, 1]]\n",
    "y = [0, 1]\n",
    "clf = svm.SVC(gamma='scale')\n",
    "clf.fit(X, y)"
   ]
  },
  {
   "cell_type": "code",
   "execution_count": 2,
   "id": "f7d6f0f7",
   "metadata": {
    "ExecuteTime": {
     "end_time": "2022-04-15T11:30:28.601177Z",
     "start_time": "2022-04-15T11:30:28.595394Z"
    }
   },
   "outputs": [
    {
     "data": {
      "text/plain": [
       "array([1])"
      ]
     },
     "execution_count": 2,
     "metadata": {},
     "output_type": "execute_result"
    }
   ],
   "source": [
    "clf.predict([[2., 2.]])"
   ]
  },
  {
   "cell_type": "code",
   "execution_count": 7,
   "id": "a87bb431",
   "metadata": {
    "ExecuteTime": {
     "end_time": "2022-04-15T12:07:09.088394Z",
     "start_time": "2022-04-15T11:32:46.985003Z"
    }
   },
   "outputs": [
    {
     "name": "stderr",
     "output_type": "stream",
     "text": [
      "/data/wwwroot/Notebook/xlib/model.py:13: SettingWithCopyWarning: \n",
      "A value is trying to be set on a copy of a slice from a DataFrame\n",
      "\n",
      "See the caveats in the documentation: https://pandas.pydata.org/pandas-docs/stable/user_guide/indexing.html#returning-a-view-versus-a-copy\n",
      "  df_train.drop_duplicates(subset=['symbol','date'],keep='first',inplace=True)\n",
      "/data/wwwroot/Notebook/xlib/model.py:15: SettingWithCopyWarning: \n",
      "A value is trying to be set on a copy of a slice from a DataFrame\n",
      "\n",
      "See the caveats in the documentation: https://pandas.pydata.org/pandas-docs/stable/user_guide/indexing.html#returning-a-view-versus-a-copy\n",
      "  df_pred.drop_duplicates(subset=['symbol','date'],keep='first',inplace=True)\n"
     ]
    },
    {
     "data": {
      "text/plain": [
       "SVC()"
      ]
     },
     "execution_count": 7,
     "metadata": {},
     "output_type": "execute_result"
    }
   ],
   "source": [
    "import pandas as pd\n",
    "df=pd.DataFrame()\n",
    "df=pd.read_csv('./xlib/cache/fin.csv',index_col=0)\n",
    "df=df.reset_index(drop=True)\n",
    "df['label']=df['close'].shift(-30)/df['close']\n",
    "\n",
    "\n",
    "df['industry']=pd.factorize(df[\"industry\"])[0].astype(int)\n",
    "\n",
    "from xlib import model\n",
    "df_train,df_valid,df_pred=model.datasplit(df,train_end='2017-01-01',valid_end='2018-01-01')\n",
    "\n",
    "\n",
    "if True:\n",
    "    df_train=df_train.drop('date', axis=1)   \n",
    "    df_valid=df_valid.drop('date', axis=1)  \n",
    "    \n",
    "    df_train=df_train.drop('symbol', axis=1)   \n",
    "    df_valid=df_valid.drop('symbol', axis=1)  \n",
    "\n",
    "\n",
    "    df_valid= df_valid.drop('open', axis=1) \n",
    "    df_valid= df_valid.drop('close', axis=1) \n",
    "    df_valid= df_valid.drop('high', axis=1) \n",
    "    df_valid= df_valid.drop('low', axis=1) \n",
    "    df_valid= df_valid.drop('volume', axis=1) \n",
    "    df_valid= df_valid.drop('amount', axis=1) \n",
    "\n",
    "    df_train= df_train.drop('open', axis=1) \n",
    "    df_train= df_train.drop('close', axis=1) \n",
    "    df_train= df_train.drop('high', axis=1) \n",
    "    df_train= df_train.drop('low', axis=1) \n",
    "    df_train= df_train.drop('volume', axis=1) \n",
    "    df_train= df_train.drop('amount', axis=1) \n",
    "\n",
    "\n",
    "    y_train=df_train['label']\n",
    "    x_train=df_train.drop('label', axis=1)\n",
    "    y_valid=df_valid['label']\n",
    "    x_valid=df_valid.drop('label', axis=1)  \n",
    "\n",
    "    x_train=x_train.fillna(0)\n",
    "    y_train=y_train.fillna(0).astype('int')\n",
    "\n",
    "clf.fit(x_train, y_train)\n",
    "\n",
    "\n",
    "\n",
    "# model.lgbtrain(df_train,df_valid,label='label')  \n",
    "# preds=model.lgbpred(df_pred,label='label') \n",
    "\n"
   ]
  },
  {
   "cell_type": "code",
   "execution_count": 23,
   "id": "3cf95e30",
   "metadata": {
    "ExecuteTime": {
     "end_time": "2022-04-15T12:18:39.724653Z",
     "start_time": "2022-04-15T12:18:34.029456Z"
    },
    "run_control": {
     "marked": true
    }
   },
   "outputs": [
    {
     "name": "stdout",
     "output_type": "stream",
     "text": [
      "        pre_close    change  pct_chg         vol  adj_factor      vwap  \\\n",
      "732      0.000000  0.000000   0.0000        0.00       0.000  0.000000   \n",
      "733      0.000000  0.000000   0.0000        0.00       0.000  0.000000   \n",
      "734      0.000000  0.000000   0.0000        0.00       0.000  0.000000   \n",
      "735      0.000000  0.000000   0.0000        0.00       0.000  0.000000   \n",
      "736      0.000000  0.000000   0.0000        0.00       0.000  0.000000   \n",
      "...           ...       ...      ...         ...         ...       ...   \n",
      "580238   3.729847  0.099996   2.6810  2671908.66      24.437  3.778774   \n",
      "580239   3.830000  0.380000   9.9217   885323.09      24.438  4.210000   \n",
      "580240   4.210000  0.420000   9.9762  1729050.16      24.438  4.623809   \n",
      "580241   4.630000 -0.450000  -9.7192  3582530.68      24.438  4.318308   \n",
      "580242   4.180000  0.160000   3.8278  2551101.35      24.438  4.229862   \n",
      "\n",
      "        prev_close  returns  trad_asset  fa_avail_for_sale  ...       f12  \\\n",
      "732       0.000000   0.0000        0.00       0.000000e+00  ...  0.000000   \n",
      "733       0.000000   0.0000        0.00       0.000000e+00  ...  0.000000   \n",
      "734       0.000000   0.0000        0.00       0.000000e+00  ...  0.000000   \n",
      "735       0.000000   0.0000        0.00       0.000000e+00  ...  0.000000   \n",
      "736       0.000000   0.0000        0.00       0.000000e+00  ...  0.000000   \n",
      "...            ...      ...         ...                ...  ...       ...   \n",
      "580238    3.729695   2.6810   581683.16       6.200542e+08  ...  0.578904   \n",
      "580239    3.830000   9.9217   581683.16       6.200542e+08  ...  0.578904   \n",
      "580240    4.210000   9.9762   581683.16       6.200542e+08  ...  0.578904   \n",
      "580241    4.630000  -9.7192   581683.16       6.200542e+08  ...  0.578904   \n",
      "580242    4.180000   3.8278   581683.16       6.200542e+08  ...  0.578904   \n",
      "\n",
      "             f13        f22       f23        f32       f33         f42  \\\n",
      "732     0.000000   0.000000  0.000000   0.000000  0.000000    0.000000   \n",
      "733     0.000000   0.000000  0.000000   0.000000  0.000000    0.000000   \n",
      "734     0.000000   0.000000  0.000000   0.000000  0.000000    0.000000   \n",
      "735     0.000000   0.000000  0.000000   0.000000  0.000000    0.000000   \n",
      "736     0.000000   0.000000  0.000000   0.000000  0.000000    0.000000   \n",
      "...          ...        ...       ...        ...       ...         ...   \n",
      "580238  0.670334  72.817112  5.680776  98.539986  7.121732  440.155913   \n",
      "580239  0.609829  72.817112  5.168022  98.539986  6.478916  440.155913   \n",
      "580240  0.554509  72.817112  4.699216  98.539986  5.891195  440.155913   \n",
      "580241  0.614205  72.817112  5.205113  98.539986  6.525415  440.155913   \n",
      "580242  0.591562  72.817112  5.013219  98.539986  6.284847  440.155913   \n",
      "\n",
      "             f43         f52       f53  \n",
      "732     0.000000    0.000000  0.000000  \n",
      "733     0.000000    0.000000  0.000000  \n",
      "734     0.000000    0.000000  0.000000  \n",
      "735     0.000000    0.000000  0.000000  \n",
      "736     0.000000    0.000000  0.000000  \n",
      "...          ...         ...       ...  \n",
      "580238  9.351136  440.155913  0.308706  \n",
      "580239  8.507091  440.155913  0.280842  \n",
      "580240  7.735389  440.155913  0.255366  \n",
      "580241  8.568146  440.155913  0.282857  \n",
      "580242  8.252270  440.155913  0.272429  \n",
      "\n",
      "[339480 rows x 30 columns]\n"
     ]
    },
    {
     "name": "stderr",
     "output_type": "stream",
     "text": [
      "/data/anaconda3/envs/finhack/lib/python3.8/site-packages/sklearn/base.py:493: FutureWarning: The feature names should match those that were passed during fit. Starting version 1.2, an error will be raised.\n",
      "Feature names unseen at fit time:\n",
      "- f5\n",
      "- f52\n",
      "- f53\n",
      "- fa_avail_for_sale\n",
      "- goodwill\n",
      "- ...\n",
      "Feature names seen at fit time, yet now missing:\n",
      "- cip\n",
      "- fix_assets\n",
      "- intan_assets\n",
      "- r_and_d\n",
      "\n",
      "  warnings.warn(message, FutureWarning)\n"
     ]
    },
    {
     "ename": "ValueError",
     "evalue": "X has 30 features, but SVC is expecting 26 features as input.",
     "output_type": "error",
     "traceback": [
      "\u001b[0;31m---------------------------------------------------------------------------\u001b[0m",
      "\u001b[0;31mValueError\u001b[0m                                Traceback (most recent call last)",
      "Input \u001b[0;32mIn [23]\u001b[0m, in \u001b[0;36m<cell line: 6>\u001b[0;34m()\u001b[0m\n\u001b[1;32m     15\u001b[0m     x_pred\u001b[38;5;241m=\u001b[39mx_pred\u001b[38;5;241m.\u001b[39mfillna(\u001b[38;5;241m0\u001b[39m)\n\u001b[1;32m     16\u001b[0m     \u001b[38;5;28mprint\u001b[39m(x_pred)\n\u001b[0;32m---> 17\u001b[0m     res \u001b[38;5;241m=\u001b[39m \u001b[43mclf\u001b[49m\u001b[38;5;241;43m.\u001b[39;49m\u001b[43mpredict\u001b[49m\u001b[43m(\u001b[49m\u001b[43mx_pred\u001b[49m\u001b[43m)\u001b[49m\n\u001b[1;32m     19\u001b[0m \u001b[38;5;28mprint\u001b[39m( res )\n",
      "File \u001b[0;32m/data/anaconda3/envs/finhack/lib/python3.8/site-packages/sklearn/svm/_base.py:791\u001b[0m, in \u001b[0;36mBaseSVC.predict\u001b[0;34m(self, X)\u001b[0m\n\u001b[1;32m    789\u001b[0m     y \u001b[38;5;241m=\u001b[39m np\u001b[38;5;241m.\u001b[39margmax(\u001b[38;5;28mself\u001b[39m\u001b[38;5;241m.\u001b[39mdecision_function(X), axis\u001b[38;5;241m=\u001b[39m\u001b[38;5;241m1\u001b[39m)\n\u001b[1;32m    790\u001b[0m \u001b[38;5;28;01melse\u001b[39;00m:\n\u001b[0;32m--> 791\u001b[0m     y \u001b[38;5;241m=\u001b[39m \u001b[38;5;28;43msuper\u001b[39;49m\u001b[43m(\u001b[49m\u001b[43m)\u001b[49m\u001b[38;5;241;43m.\u001b[39;49m\u001b[43mpredict\u001b[49m\u001b[43m(\u001b[49m\u001b[43mX\u001b[49m\u001b[43m)\u001b[49m\n\u001b[1;32m    792\u001b[0m \u001b[38;5;28;01mreturn\u001b[39;00m \u001b[38;5;28mself\u001b[39m\u001b[38;5;241m.\u001b[39mclasses_\u001b[38;5;241m.\u001b[39mtake(np\u001b[38;5;241m.\u001b[39masarray(y, dtype\u001b[38;5;241m=\u001b[39mnp\u001b[38;5;241m.\u001b[39mintp))\n",
      "File \u001b[0;32m/data/anaconda3/envs/finhack/lib/python3.8/site-packages/sklearn/svm/_base.py:414\u001b[0m, in \u001b[0;36mBaseLibSVM.predict\u001b[0;34m(self, X)\u001b[0m\n\u001b[1;32m    398\u001b[0m \u001b[38;5;28;01mdef\u001b[39;00m \u001b[38;5;21mpredict\u001b[39m(\u001b[38;5;28mself\u001b[39m, X):\n\u001b[1;32m    399\u001b[0m     \u001b[38;5;124;03m\"\"\"Perform regression on samples in X.\u001b[39;00m\n\u001b[1;32m    400\u001b[0m \n\u001b[1;32m    401\u001b[0m \u001b[38;5;124;03m    For an one-class model, +1 (inlier) or -1 (outlier) is returned.\u001b[39;00m\n\u001b[0;32m   (...)\u001b[0m\n\u001b[1;32m    412\u001b[0m \u001b[38;5;124;03m        The predicted values.\u001b[39;00m\n\u001b[1;32m    413\u001b[0m \u001b[38;5;124;03m    \"\"\"\u001b[39;00m\n\u001b[0;32m--> 414\u001b[0m     X \u001b[38;5;241m=\u001b[39m \u001b[38;5;28;43mself\u001b[39;49m\u001b[38;5;241;43m.\u001b[39;49m\u001b[43m_validate_for_predict\u001b[49m\u001b[43m(\u001b[49m\u001b[43mX\u001b[49m\u001b[43m)\u001b[49m\n\u001b[1;32m    415\u001b[0m     predict \u001b[38;5;241m=\u001b[39m \u001b[38;5;28mself\u001b[39m\u001b[38;5;241m.\u001b[39m_sparse_predict \u001b[38;5;28;01mif\u001b[39;00m \u001b[38;5;28mself\u001b[39m\u001b[38;5;241m.\u001b[39m_sparse \u001b[38;5;28;01melse\u001b[39;00m \u001b[38;5;28mself\u001b[39m\u001b[38;5;241m.\u001b[39m_dense_predict\n\u001b[1;32m    416\u001b[0m     \u001b[38;5;28;01mreturn\u001b[39;00m predict(X)\n",
      "File \u001b[0;32m/data/anaconda3/envs/finhack/lib/python3.8/site-packages/sklearn/svm/_base.py:592\u001b[0m, in \u001b[0;36mBaseLibSVM._validate_for_predict\u001b[0;34m(self, X)\u001b[0m\n\u001b[1;32m    589\u001b[0m check_is_fitted(\u001b[38;5;28mself\u001b[39m)\n\u001b[1;32m    591\u001b[0m \u001b[38;5;28;01mif\u001b[39;00m \u001b[38;5;129;01mnot\u001b[39;00m callable(\u001b[38;5;28mself\u001b[39m\u001b[38;5;241m.\u001b[39mkernel):\n\u001b[0;32m--> 592\u001b[0m     X \u001b[38;5;241m=\u001b[39m \u001b[38;5;28;43mself\u001b[39;49m\u001b[38;5;241;43m.\u001b[39;49m\u001b[43m_validate_data\u001b[49m\u001b[43m(\u001b[49m\n\u001b[1;32m    593\u001b[0m \u001b[43m        \u001b[49m\u001b[43mX\u001b[49m\u001b[43m,\u001b[49m\n\u001b[1;32m    594\u001b[0m \u001b[43m        \u001b[49m\u001b[43maccept_sparse\u001b[49m\u001b[38;5;241;43m=\u001b[39;49m\u001b[38;5;124;43m\"\u001b[39;49m\u001b[38;5;124;43mcsr\u001b[39;49m\u001b[38;5;124;43m\"\u001b[39;49m\u001b[43m,\u001b[49m\n\u001b[1;32m    595\u001b[0m \u001b[43m        \u001b[49m\u001b[43mdtype\u001b[49m\u001b[38;5;241;43m=\u001b[39;49m\u001b[43mnp\u001b[49m\u001b[38;5;241;43m.\u001b[39;49m\u001b[43mfloat64\u001b[49m\u001b[43m,\u001b[49m\n\u001b[1;32m    596\u001b[0m \u001b[43m        \u001b[49m\u001b[43morder\u001b[49m\u001b[38;5;241;43m=\u001b[39;49m\u001b[38;5;124;43m\"\u001b[39;49m\u001b[38;5;124;43mC\u001b[39;49m\u001b[38;5;124;43m\"\u001b[39;49m\u001b[43m,\u001b[49m\n\u001b[1;32m    597\u001b[0m \u001b[43m        \u001b[49m\u001b[43maccept_large_sparse\u001b[49m\u001b[38;5;241;43m=\u001b[39;49m\u001b[38;5;28;43;01mFalse\u001b[39;49;00m\u001b[43m,\u001b[49m\n\u001b[1;32m    598\u001b[0m \u001b[43m        \u001b[49m\u001b[43mreset\u001b[49m\u001b[38;5;241;43m=\u001b[39;49m\u001b[38;5;28;43;01mFalse\u001b[39;49;00m\u001b[43m,\u001b[49m\n\u001b[1;32m    599\u001b[0m \u001b[43m    \u001b[49m\u001b[43m)\u001b[49m\n\u001b[1;32m    601\u001b[0m \u001b[38;5;28;01mif\u001b[39;00m \u001b[38;5;28mself\u001b[39m\u001b[38;5;241m.\u001b[39m_sparse \u001b[38;5;129;01mand\u001b[39;00m \u001b[38;5;129;01mnot\u001b[39;00m sp\u001b[38;5;241m.\u001b[39misspmatrix(X):\n\u001b[1;32m    602\u001b[0m     X \u001b[38;5;241m=\u001b[39m sp\u001b[38;5;241m.\u001b[39mcsr_matrix(X)\n",
      "File \u001b[0;32m/data/anaconda3/envs/finhack/lib/python3.8/site-packages/sklearn/base.py:585\u001b[0m, in \u001b[0;36mBaseEstimator._validate_data\u001b[0;34m(self, X, y, reset, validate_separately, **check_params)\u001b[0m\n\u001b[1;32m    582\u001b[0m     out \u001b[38;5;241m=\u001b[39m X, y\n\u001b[1;32m    584\u001b[0m \u001b[38;5;28;01mif\u001b[39;00m \u001b[38;5;129;01mnot\u001b[39;00m no_val_X \u001b[38;5;129;01mand\u001b[39;00m check_params\u001b[38;5;241m.\u001b[39mget(\u001b[38;5;124m\"\u001b[39m\u001b[38;5;124mensure_2d\u001b[39m\u001b[38;5;124m\"\u001b[39m, \u001b[38;5;28;01mTrue\u001b[39;00m):\n\u001b[0;32m--> 585\u001b[0m     \u001b[38;5;28;43mself\u001b[39;49m\u001b[38;5;241;43m.\u001b[39;49m\u001b[43m_check_n_features\u001b[49m\u001b[43m(\u001b[49m\u001b[43mX\u001b[49m\u001b[43m,\u001b[49m\u001b[43m \u001b[49m\u001b[43mreset\u001b[49m\u001b[38;5;241;43m=\u001b[39;49m\u001b[43mreset\u001b[49m\u001b[43m)\u001b[49m\n\u001b[1;32m    587\u001b[0m \u001b[38;5;28;01mreturn\u001b[39;00m out\n",
      "File \u001b[0;32m/data/anaconda3/envs/finhack/lib/python3.8/site-packages/sklearn/base.py:400\u001b[0m, in \u001b[0;36mBaseEstimator._check_n_features\u001b[0;34m(self, X, reset)\u001b[0m\n\u001b[1;32m    397\u001b[0m     \u001b[38;5;28;01mreturn\u001b[39;00m\n\u001b[1;32m    399\u001b[0m \u001b[38;5;28;01mif\u001b[39;00m n_features \u001b[38;5;241m!=\u001b[39m \u001b[38;5;28mself\u001b[39m\u001b[38;5;241m.\u001b[39mn_features_in_:\n\u001b[0;32m--> 400\u001b[0m     \u001b[38;5;28;01mraise\u001b[39;00m \u001b[38;5;167;01mValueError\u001b[39;00m(\n\u001b[1;32m    401\u001b[0m         \u001b[38;5;124mf\u001b[39m\u001b[38;5;124m\"\u001b[39m\u001b[38;5;124mX has \u001b[39m\u001b[38;5;132;01m{\u001b[39;00mn_features\u001b[38;5;132;01m}\u001b[39;00m\u001b[38;5;124m features, but \u001b[39m\u001b[38;5;132;01m{\u001b[39;00m\u001b[38;5;28mself\u001b[39m\u001b[38;5;241m.\u001b[39m\u001b[38;5;18m__class__\u001b[39m\u001b[38;5;241m.\u001b[39m\u001b[38;5;18m__name__\u001b[39m\u001b[38;5;132;01m}\u001b[39;00m\u001b[38;5;124m \u001b[39m\u001b[38;5;124m\"\u001b[39m\n\u001b[1;32m    402\u001b[0m         \u001b[38;5;124mf\u001b[39m\u001b[38;5;124m\"\u001b[39m\u001b[38;5;124mis expecting \u001b[39m\u001b[38;5;132;01m{\u001b[39;00m\u001b[38;5;28mself\u001b[39m\u001b[38;5;241m.\u001b[39mn_features_in_\u001b[38;5;132;01m}\u001b[39;00m\u001b[38;5;124m features as input.\u001b[39m\u001b[38;5;124m\"\u001b[39m\n\u001b[1;32m    403\u001b[0m     )\n",
      "\u001b[0;31mValueError\u001b[0m: X has 30 features, but SVC is expecting 26 features as input."
     ]
    }
   ],
   "source": [
    "import numpy as np\n",
    " \n",
    "\n",
    "if True:\n",
    "    #df_pred=df_pred.drop('label', axis=1)  \n",
    "    x_pred= df_pred.drop('date', axis=1)   \n",
    "    x_pred = x_pred.replace([np.inf, -np.inf], np.nan) \n",
    "    x_pred= x_pred.drop('symbol', axis=1)  \n",
    "    x_pred= x_pred.drop('open', axis=1) \n",
    "    x_pred= x_pred.drop('close', axis=1) \n",
    "    x_pred= x_pred.drop('high', axis=1) \n",
    "    x_pred= x_pred.drop('low', axis=1) \n",
    "    x_pred= x_pred.drop('volume', axis=1) \n",
    "    x_pred= x_pred.drop('amount', axis=1) \n",
    "    x_pred=x_pred.fillna(0)\n",
    "    print(x_pred)\n",
    "    res = clf.predict(x_pred)\n",
    "\n",
    "print( res )"
   ]
  },
  {
   "cell_type": "code",
   "execution_count": null,
   "id": "55925752",
   "metadata": {},
   "outputs": [],
   "source": []
  }
 ],
 "metadata": {
  "kernelspec": {
   "display_name": "Python 3 (ipykernel)",
   "language": "python",
   "name": "python3"
  },
  "language_info": {
   "codemirror_mode": {
    "name": "ipython",
    "version": 3
   },
   "file_extension": ".py",
   "mimetype": "text/x-python",
   "name": "python",
   "nbconvert_exporter": "python",
   "pygments_lexer": "ipython3",
   "version": "3.8.13"
  }
 },
 "nbformat": 4,
 "nbformat_minor": 5
}
