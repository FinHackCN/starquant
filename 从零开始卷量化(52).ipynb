{
 "cells": [
  {
   "cell_type": "code",
   "execution_count": 1,
   "id": "9ae92532",
   "metadata": {
    "ExecuteTime": {
     "end_time": "2022-05-18T13:16:46.796526Z",
     "start_time": "2022-05-18T13:16:44.384557Z"
    }
   },
   "outputs": [
    {
     "name": "stderr",
     "output_type": "stream",
     "text": [
      "                                             "
     ]
    },
    {
     "name": "stdout",
     "output_type": "stream",
     "text": [
      "           代码     名称        最新价      涨跌额    涨跌幅         昨收         今开  \\\n",
      "276  sz399249   综企指数  1129.2120   44.879  4.139  1084.3330  1080.9050   \n",
      "99   sh000113  380公用  2151.5614   28.217  1.329  2123.3440  2124.6844   \n",
      "499  sz399677  深互联EW  2971.2730   36.945  1.259  2934.3280  2973.8850   \n",
      "515  sz399693   安防产业  3020.4700   34.329  1.150  2986.1410  3016.7200   \n",
      "585  sz980068         2330.7370   23.520  1.019  2307.2170  2303.5080   \n",
      "..        ...    ...        ...      ...    ...        ...        ...   \n",
      "23   sh000027  180运输   786.0028  -12.990 -1.626   798.9931   799.0347   \n",
      "502  sz399680   深成能源   855.4930  -14.787 -1.699   870.2800   868.5790   \n",
      "435  sz399613   深证能源  3751.7920  -65.050 -1.704  3816.8420  3792.6680   \n",
      "71   sh000075   医药等权  8326.4164 -151.595 -1.788  8478.0111  8426.3669   \n",
      "413  sz399436   绿色煤炭  4108.1420  -76.935 -1.838  4185.0770  4158.8370   \n",
      "\n",
      "            最高         最低         成交量          成交额  \n",
      "276  1143.2460  1071.9570   217762308   2124520655  \n",
      "99   2169.6176  2117.1932     7732592   3922189301  \n",
      "499  3020.8570  2967.0850  2569634276  26466953625  \n",
      "515  3053.0510  3016.7200   807256035  13742978187  \n",
      "585  2344.2770  2297.4210  1064038282   9971888442  \n",
      "..         ...        ...         ...          ...  \n",
      "23    799.7186   781.8698     2019841   2327026196  \n",
      "502   869.6290   847.7150   303923286   3326652619  \n",
      "435  3796.8340  3722.0630   484151015   4609271342  \n",
      "71   8464.9260  8314.7925     4254662  15988665739  \n",
      "413  4188.2020  4085.3960  1370455798  12631788087  \n",
      "\n",
      "[591 rows x 11 columns]\n"
     ]
    },
    {
     "name": "stderr",
     "output_type": "stream",
     "text": [
      "\r"
     ]
    }
   ],
   "source": [
    "#指数实时涨跌\n",
    "import akshare as ak\n",
    "stock_zh_index_spot_df = ak.stock_zh_index_spot()\n",
    "stock_zh_index_spot_df=stock_zh_index_spot_df.sort_values('涨跌幅', ascending=False)\n",
    "print(stock_zh_index_spot_df)"
   ]
  },
  {
   "cell_type": "code",
   "execution_count": 2,
   "id": "20d3982f",
   "metadata": {
    "ExecuteTime": {
     "end_time": "2022-05-18T13:16:48.446432Z",
     "start_time": "2022-05-18T13:16:46.798775Z"
    }
   },
   "outputs": [
    {
     "name": "stderr",
     "output_type": "stream",
     "text": [
      "100%|██████████| 7/7 [00:01<00:00,  5.18it/s]\n"
     ]
    },
    {
     "name": "stdout",
     "output_type": "stream",
     "text": [
      "      序号     行业      行业指数  行业-涨跌幅   流入资金   流出资金     净额  公司家数   领涨股  领涨股-涨跌幅  \\\n",
      "0      1   露营经济  1155.300    6.90  13.45  10.50   2.95    17  久量股份    19.98   \n",
      "1      2    两轮车  1018.720    5.40   5.92   5.02   0.90    14  九号公司    17.15   \n",
      "2      3   共享单车   989.882    3.55   7.58   6.46   1.12    11  三夫户外     9.98   \n",
      "3      4  微信小程序   638.703    2.96   2.81   3.21  -0.41     6  证通电子    10.05   \n",
      "4      5  EDR概念   656.000    2.39   8.52   9.34  -0.83    16  锐明技术    10.00   \n",
      "..   ...    ...       ...     ...    ...    ...    ...   ...   ...      ...   \n",
      "334  335     化肥   901.019   -1.09  65.34  82.58 -17.23    47  河化股份     5.36   \n",
      "335  336   煤炭概念  1658.400   -1.20  55.63  72.68 -17.05    54  华银电力     3.04   \n",
      "336  337  CRO概念   833.601   -1.32  17.84  25.47  -7.63    29  谱尼测试     5.13   \n",
      "337  338   眼科医疗  1288.630   -1.33  13.89  19.04  -5.16    33  光正眼科     7.12   \n",
      "338  339    草甘膦  1509.000   -1.85   7.16  12.73  -5.57    14  安道麦A     0.53   \n",
      "\n",
      "       当前价  \n",
      "0    12.67  \n",
      "1    43.79  \n",
      "2    14.55  \n",
      "3     9.64  \n",
      "4    24.85  \n",
      "..     ...  \n",
      "334   7.27  \n",
      "335   4.74  \n",
      "336  69.50  \n",
      "337   6.77  \n",
      "338  11.33  \n",
      "\n",
      "[339 rows x 11 columns]\n"
     ]
    }
   ],
   "source": [
    "#概念资金流入\n",
    "import akshare as ak\n",
    "stock_fund_flow_concept_df = ak.stock_fund_flow_concept(symbol=\"即时\")\n",
    "print(stock_fund_flow_concept_df)"
   ]
  },
  {
   "cell_type": "code",
   "execution_count": 3,
   "id": "82481a30",
   "metadata": {
    "ExecuteTime": {
     "end_time": "2022-05-18T13:16:48.877009Z",
     "start_time": "2022-05-18T13:16:48.448612Z"
    }
   },
   "outputs": [
    {
     "name": "stderr",
     "output_type": "stream",
     "text": [
      "100%|██████████| 2/2 [00:00<00:00,  5.93it/s]"
     ]
    },
    {
     "name": "stdout",
     "output_type": "stream",
     "text": [
      "    序号      行业      行业指数  行业-涨跌幅   流入资金   流出资金     净额  公司家数    领涨股  领涨股-涨跌幅  \\\n",
      "0    1    纺织制造  1649.560    3.34   9.73   7.70   2.04    34   华纺股份    10.14   \n",
      "1    2      教育  3347.030    2.65   5.30   4.36   0.94    21   中公教育    10.11   \n",
      "2    3    服装家纺  2074.490    2.56  16.97  14.83   2.14    62  *ST中潜    20.06   \n",
      "3    4   非汽车交运  1919.240    2.55   9.70   8.84   0.86    42   九号公司    17.15   \n",
      "4    5    汽车服务   999.613    2.27   7.45   7.00   0.45    16   申华控股    10.05   \n",
      "..  ..     ...       ...     ...    ...    ...    ...   ...    ...      ...   \n",
      "71  72    港口航运   822.254   -0.98  15.51  21.46  -5.95    32    珠海港     1.51   \n",
      "72  73      中药  3105.660   -1.19  32.94  43.78 -10.84    73   千金药业     6.73   \n",
      "73  74    机场航运  1814.330   -1.44   3.93   7.35  -3.42    13   中信海直     2.87   \n",
      "74  75   房地产服务  3021.670   -1.55   3.13   4.39  -1.26     8  *ST巴士     2.87   \n",
      "75  76  煤炭开采加工  2085.570   -1.65  34.56  47.78 -13.22    33   ST大洲     2.05   \n",
      "\n",
      "      当前价  \n",
      "0    4.02  \n",
      "1    4.90  \n",
      "2    8.08  \n",
      "3   43.79  \n",
      "4    2.41  \n",
      "..    ...  \n",
      "71   6.05  \n",
      "72  11.10  \n",
      "73   7.18  \n",
      "74   5.38  \n",
      "75   1.99  \n",
      "\n",
      "[76 rows x 11 columns]\n"
     ]
    },
    {
     "name": "stderr",
     "output_type": "stream",
     "text": [
      "\n"
     ]
    }
   ],
   "source": [
    "import akshare as ak\n",
    "#行业资金流入\n",
    "stock_fund_flow_industry_df = ak.stock_fund_flow_industry(symbol=\"即时\")\n",
    "print(stock_fund_flow_industry_df)"
   ]
  },
  {
   "cell_type": "code",
   "execution_count": 4,
   "id": "c73a7a6c",
   "metadata": {
    "ExecuteTime": {
     "end_time": "2022-05-18T13:16:48.920100Z",
     "start_time": "2022-05-18T13:16:48.878527Z"
    }
   },
   "outputs": [],
   "source": [
    "#https://github.com/pyecharts/pyecharts\n",
    "#https://pyecharts.org/#/zh-cn/intro\n",
    "#https://gallery.pyecharts.org/#/README\n",
    "from pyecharts.charts import *\n",
    "from pyecharts import options as opts\n",
    "chart_width=\"48%\""
   ]
  },
  {
   "cell_type": "code",
   "execution_count": 5,
   "id": "5130b4f3",
   "metadata": {
    "ExecuteTime": {
     "end_time": "2022-05-18T13:16:48.929889Z",
     "start_time": "2022-05-18T13:16:48.921635Z"
    }
   },
   "outputs": [
    {
     "data": {
      "application/javascript": [
       "window.open(\"/view/dashboard.html\");  \n"
      ],
      "text/plain": [
       "<IPython.core.display.Javascript object>"
      ]
     },
     "metadata": {},
     "output_type": "display_data"
    }
   ],
   "source": [
    "%%javascript\n",
    "window.open(\"/view/dashboard.html\");  "
   ]
  },
  {
   "cell_type": "code",
   "execution_count": 6,
   "id": "02e66b49",
   "metadata": {
    "ExecuteTime": {
     "end_time": "2022-05-18T13:16:49.951721Z",
     "start_time": "2022-05-18T13:16:48.931633Z"
    }
   },
   "outputs": [
    {
     "data": {
      "text/plain": [
       "<pyecharts.charts.basic_charts.pie.Pie at 0x7f9290038a00>"
      ]
     },
     "execution_count": 6,
     "metadata": {},
     "output_type": "execute_result"
    }
   ],
   "source": [
    "import akshare as ak\n",
    "\n",
    "#实时行情数据\n",
    "today_all = ak.stock_zh_a_spot_em()\n",
    "zhang=len(today_all[today_all['涨跌幅']>0])\n",
    "die=len(today_all[today_all['涨跌幅']<0])\n",
    "ping=len(today_all[today_all['涨跌幅']==0])\n",
    "\n",
    "cate = [\"上涨\", \"下跌\", \"持平\"]\n",
    "data = [zhang,die,ping]\n",
    "\n",
    "#今日市场涨跌\n",
    "pie1 = Pie(init_opts=opts.InitOpts(width=chart_width))\n",
    "\n",
    "pie1.set_colors([ \"#e74c3c\",\"#27ae60\", \"#bdc3c7\"])\n",
    "pie1.add(\"\",[list(z) for z in zip(cate,data)]\n",
    "        ,label_opts=opts.LabelOpts(\n",
    "            position=\"outside\",\n",
    "            formatter=\"{d}%\",))\n",
    "   \n",
    "pie1.set_global_opts(\n",
    "      title_opts=opts.TitleOpts(title=\"今日市场涨跌\"),\n",
    "    legend_opts=opts.LegendOpts(\n",
    "     type_=\"scroll\"\n",
    "     , pos_top=\"20%\"\n",
    "     , pos_left=\"80%\"\n",
    "     , orient=\"vertical\"\n",
    "     ),\n",
    ")\n"
   ]
  },
  {
   "cell_type": "code",
   "execution_count": 7,
   "id": "f7822399",
   "metadata": {
    "ExecuteTime": {
     "end_time": "2022-05-18T13:16:49.958475Z",
     "start_time": "2022-05-18T13:16:49.953578Z"
    }
   },
   "outputs": [
    {
     "data": {
      "application/javascript": [
       "window.open(\"/view/dashboard.html\");  \n"
      ],
      "text/plain": [
       "<IPython.core.display.Javascript object>"
      ]
     },
     "metadata": {},
     "output_type": "display_data"
    }
   ],
   "source": [
    "%%javascript\n",
    "window.open(\"/view/dashboard.html\");  "
   ]
  },
  {
   "cell_type": "code",
   "execution_count": 8,
   "id": "1b97879a",
   "metadata": {
    "ExecuteTime": {
     "end_time": "2022-05-18T13:16:49.981991Z",
     "start_time": "2022-05-18T13:16:49.960387Z"
    },
    "scrolled": false
   },
   "outputs": [
    {
     "data": {
      "text/plain": [
       "<pyecharts.charts.basic_charts.bar.Bar at 0x7f9290038430>"
      ]
     },
     "execution_count": 8,
     "metadata": {},
     "output_type": "execute_result"
    }
   ],
   "source": [
    "import pandas as pd\n",
    "# 等分价格为10个区间\n",
    "today_all=today_all[today_all['涨跌幅']>=-30]\n",
    "today_all=today_all[today_all['涨跌幅']<=30]\n",
    "\n",
    "sections=range(-20,20,2)\n",
    "quartiles = pd.cut(today_all['涨跌幅'],sections)\n",
    "\n",
    "# 定义聚合函数\n",
    "def get_stats(group):\n",
    "    return {'count': group.count()}\n",
    "\n",
    "# 分组统计\n",
    "grouped = today_all['涨跌幅'].groupby(quartiles)\n",
    "today_count = grouped.apply(get_stats).unstack()\n",
    "\n",
    "\n",
    "xlist=[]\n",
    "\n",
    "for idx,row in today_count.iterrows():\n",
    "        if('-' in str(idx)):\n",
    "            xlist.append(\n",
    "                opts.BarItem(\n",
    "                    name=str(idx),\n",
    "                    value=int(row['count']),\n",
    "                    itemstyle_opts=opts.ItemStyleOpts(color=\"#27ae60\"),\n",
    "                )\n",
    "            )\n",
    "        else:\n",
    "            xlist.append(\n",
    "                opts.BarItem(\n",
    "                    name=str(idx),\n",
    "                    value=int(row['count']),\n",
    "                    itemstyle_opts=opts.ItemStyleOpts(color=\"#e74c3c\"),\n",
    "                )\n",
    "            )\n",
    "        \n",
    "\n",
    "bar1=(Bar(init_opts=opts.InitOpts(width=chart_width))\n",
    "    .add_xaxis(today_count.index.astype('string').to_list())\n",
    "    .add_yaxis(\"数量\", xlist, category_gap=0,)\n",
    "    )\n",
    "bar1.set_global_opts(title_opts=opts.TitleOpts(title=\"今日涨跌分布\"))\n",
    " "
   ]
  },
  {
   "cell_type": "code",
   "execution_count": 9,
   "id": "d449b165",
   "metadata": {
    "ExecuteTime": {
     "end_time": "2022-05-18T13:16:50.009602Z",
     "start_time": "2022-05-18T13:16:49.984234Z"
    }
   },
   "outputs": [
    {
     "data": {
      "text/plain": [
       "'/data/wwwroot/Notebook/dashboard.html'"
      ]
     },
     "execution_count": 9,
     "metadata": {},
     "output_type": "execute_result"
    }
   ],
   "source": [
    "page = Page(layout=Page.SimplePageLayout)\n",
    "page.add(pie1,bar1)\n",
    "page.render('dashboard.html')"
   ]
  },
  {
   "cell_type": "code",
   "execution_count": 10,
   "id": "1b145407",
   "metadata": {
    "ExecuteTime": {
     "end_time": "2022-05-18T13:16:50.204366Z",
     "start_time": "2022-05-18T13:16:50.011446Z"
    },
    "run_control": {
     "marked": true
    }
   },
   "outputs": [
    {
     "name": "stdout",
     "output_type": "stream",
     "text": [
      "    序号      代码    名称        涨跌幅    最新价         成交额          流通市值  \\\n",
      "0    1  000554  泰山石油  10.037175   5.92   245203453  2.146886e+09   \n",
      "1    2  002480  新筑股份  10.000000   5.39    23814108  3.474040e+09   \n",
      "2    3  002775  文科园林  10.023867   4.61   109354381  2.056575e+09   \n",
      "3    4  600540  新赛股份  10.051107   6.46   440632480  3.042165e+09   \n",
      "4    5  600880  博瑞传播  10.040161   5.48    64811193  5.989805e+09   \n",
      "5    6  600927  永安期货  10.007728  28.47    64766403  4.143967e+09   \n",
      "6    7  600128  弘业股份  10.068966   7.98    86242231  1.969205e+09   \n",
      "7    8  603192  汇得科技   9.994040  55.36   255807476  5.905067e+09   \n",
      "8    9  002786  银宝山新   9.956076   7.51    70531910  3.710781e+09   \n",
      "9   10  002349  精华制药  10.062893   7.00   412678432  5.823945e+09   \n",
      "10  11  000862  银星能源   9.964413   9.27  1516366256  4.647541e+09   \n",
      "11  12  605289  罗曼股份   9.997812  50.28   345965904  1.089568e+09   \n",
      "12  13  002750  龙津药业   9.989023  10.02   537136224  3.989700e+09   \n",
      "13  14  600255  鑫科材料  10.169491   2.60   755099120  4.600943e+09   \n",
      "14  15  000607  华媒控股  10.109890   5.01   177236482  4.433148e+09   \n",
      "15  16  000665  湖北广电  10.071942   7.65  1000032800  7.511076e+09   \n",
      "16  17  002059  云南旅游  10.000000   6.05   318625184  4.421295e+09   \n",
      "17  18  002577  雷柏科技   9.972553  12.02    67841001  3.400037e+09   \n",
      "18  19  603511  爱慕股份  10.004369  25.18   310556368  1.007452e+09   \n",
      "19  20  000032  深桑达Ａ   9.985244  22.36   482445968  9.199443e+09   \n",
      "20  21  002689  远大智能  10.000000   3.41   102318941  3.547885e+09   \n",
      "21  22  300026  红日药业  19.955156   5.35  2375825760  1.434878e+10   \n",
      "22  23  603283  赛腾股份   9.985886  31.17   198023935  5.622029e+09   \n",
      "23  24  600775  南京熊猫  10.022026   9.99   408230208  6.711667e+09   \n",
      "24  25  600252  中恒集团  10.000000   3.63   345682992  1.261464e+10   \n",
      "25  26  001296   N长江  44.014084  36.81    20734609  7.564455e+08   \n",
      "26  27  603230   N新华  44.035877  16.06    49070797  1.419399e+09   \n",
      "27  28  600192  长城电工   9.970238   7.39   563359536  3.264518e+09   \n",
      "28  29  603963  大理药业  10.000000   8.14    58288237  1.788358e+09   \n",
      "29  30  002082   万邦德  10.007880  13.96   493385024  3.322480e+09   \n",
      "30  31  000908  景峰医药   9.974424   4.30   208167736  3.258699e+09   \n",
      "31  32  002940   昂利康   9.996915  35.65   140839293  3.141532e+09   \n",
      "32  33  002565  顺灏股份  10.039370   5.59   470241808  5.897978e+09   \n",
      "33  34  002432  九安医疗   9.994289  38.52  2979700512  1.797842e+10   \n",
      "34  35  603517  绝味食品  10.006001  73.33  1190764704  4.463089e+10   \n",
      "35  36  002178  延华智能  10.063898   6.89  1375285184  4.900558e+09   \n",
      "36  37  002292  奥飞娱乐  10.048623   6.79   482527088  5.797006e+09   \n",
      "37  38  002815  崇达技术  10.006177  17.81   373378592  7.652887e+09   \n",
      "38  39  002235  安妮股份  10.079052   5.57   386159056  3.053894e+09   \n",
      "39  40  600594  益佰制药  10.057471   7.66   447720320  6.066164e+09   \n",
      "40  41  603619  中曼石油  10.023493  14.05   378476704  5.620001e+09   \n",
      "41  42  300436   广生堂  20.012392  38.74   176792610  4.416799e+09   \n",
      "42  43  600566  济川药业  10.020040  27.45  1195441008  2.438271e+10   \n",
      "43  44  002873  新天药业  10.011574  19.01   318076480  2.948372e+09   \n",
      "44  45  300534  陇神戎发  20.000000  11.76   940984304  3.538941e+09   \n",
      "45  46  000766  通化金马  10.023867   4.61   185670719  3.259250e+09   \n",
      "46  47  002316  亚联发展   9.981852   6.06   569689808  1.778087e+09   \n",
      "47  48  000976  华铁股份  10.065646   5.03   443347696  8.020938e+09   \n",
      "48  49  601116  三江购物  10.059172   9.30    80935527  5.093409e+09   \n",
      "49  50  600556   天下秀  10.038314  14.36  1348304432  6.836523e+09   \n",
      "50  51  600778  友好集团  10.089685   4.91    86485338  1.528065e+09   \n",
      "51  52  603171  税友股份  10.000000  38.39   349798464  1.558250e+09   \n",
      "52  53  002682  龙洲股份   9.987358   8.70  1520173072  4.829654e+09   \n",
      "53  54  000829  天音控股  10.010941  20.11  1141163536  2.058792e+10   \n",
      "\n",
      "             总市值        换手率       封板资金  首次封板时间  最后封板时间  炸板次数   涨停统计  连板数  所属行业  \n",
      "0   2.846296e+09  11.425269   44129657  092500  111003     1    1/1    1  石油行业  \n",
      "1   4.145819e+09   0.685488  208500820  092500  092500     0    1/1    1  机械行业  \n",
      "2   2.363856e+09   5.327850   42787161  092500  093057     1    2/2    2  工程建设  \n",
      "3   3.042165e+09  14.506514   13162889  092501  103207    10    1/1    1  农牧饲渔  \n",
      "4   5.991460e+09   1.082025  114887871  092501  092501     0    2/2    2  文教休闲  \n",
      "5   4.143967e+10   1.562908  360820239  092503  092503     0    2/2    2  多元金融  \n",
      "6   1.969205e+09   4.399920   43453709  093008  093008     0    1/1    1  国际贸易  \n",
      "7   5.905067e+09   4.366996    3399104  093008  141209    27    1/1    1  化学制品  \n",
      "8   3.722046e+09   1.912070   38131544  093021  093021     0    1/1    1  专用设备  \n",
      "9   5.850071e+09   7.188412   48157900  093115  095633     1    3/2    1    中药  \n",
      "10  6.545723e+09  32.958244   78509660  093209  141454     9    2/2    2  电力行业  \n",
      "11  4.357768e+09  31.979544   57176807  093234  095528     6   11/6    3  装修装饰  \n",
      "12  4.013010e+09  14.013379   50271863  093242  101354     1    3/3    3    中药  \n",
      "13  4.678813e+09  16.515532   18830370  093305  140537     7    1/1    1  有色金属  \n",
      "14  5.098669e+09   4.094449   17381979  093342  093342     0    5/3    1  文化传媒  \n",
      "15  7.511494e+09  13.565184   77632689  093409  103509     4   10/8    1  文化传媒  \n",
      "16  6.125231e+09   7.324797   18012168  093621  110848     4    4/3    1  旅游酒店  \n",
      "17  3.400218e+09   2.021305   26267366  093739  093739     0    1/1    1  安防设备  \n",
      "18  1.007225e+10  31.061783    9088796  093822  143648    15    1/1    1  纺织服装  \n",
      "19  2.546233e+10   5.302623   24142092  094039  145103    13    1/1    1  通讯行业  \n",
      "20  3.557690e+09   2.938944   42550440  094215  094215     0    4/2    1  专用设备  \n",
      "21  1.607223e+10  16.948507   96097925  095027  112148     5    1/1    1    中药  \n",
      "22  5.670792e+09   3.614693   34357724  095407  095407     0    1/1    1  专用设备  \n",
      "23  9.129247e+09   6.171251   21934353  095629  131306     1    1/1    1  通讯行业  \n",
      "24  1.261464e+10   2.799942   94011446  095919  095919     0    1/1    1    中药  \n",
      "25  3.025760e+09   2.754745  120473645  100000  100000     0    1/1    1  非金属材  \n",
      "26  5.677580e+09   3.466905  392162073  100002  100002     0    1/1    1  文化传媒  \n",
      "27  3.264518e+09  17.749529   41205812  100320  101214     1   13/7    1  输配电气  \n",
      "28  1.788358e+09   3.376994   20381534  100702  100702     0    1/1    1    中药  \n",
      "29  8.630391e+09  15.653385   36045348  101057  143306     2    5/4    1  医药制造  \n",
      "30  3.783030e+09   6.528518   38644422  101533  101533     0    1/1    1  医药制造  \n",
      "31  3.420504e+09   4.572039   23741117  101621  102230     1    1/1    1  医药制造  \n",
      "32  5.925338e+09   8.397840   66370159  102212  102212     0    3/2    1  包装材料  \n",
      "33  1.843579e+10  17.386011  260597083  104118  104118     0  30/20    1  医疗器械  \n",
      "34  4.504110e+10   2.742027    9115432  104720  140409     8    1/1    1  食品饮料  \n",
      "35  4.906734e+09  28.976170  112715466  104751  144321     2    6/6    6  软件服务  \n",
      "36  1.004037e+10   8.701466   49142224  105036  105036     0    1/1    1  文化传媒  \n",
      "37  1.559512e+10   5.009803   50860996  105830  105830     0    1/1    1  电子元件  \n",
      "38  3.228218e+09  13.067707   40639277  110233  110233     0    1/1    1  文化传媒  \n",
      "39  6.066164e+09   7.570289   21547227  112156  143909     2    1/1    1    中药  \n",
      "40  5.620001e+09   6.904850   88716055  112919  112919     0    1/1    1  采掘行业  \n",
      "41  6.151021e+09   4.146692  184291216  130024  130024     0    1/1    1  医药制造  \n",
      "42  2.438271e+10   5.037025   17407884  130247  145342     5    1/1    1    中药  \n",
      "43  3.118170e+09  11.362952   47576098  130509  130509     0    3/2    1    中药  \n",
      "44  3.567337e+09  29.817179   64935192  130642  130642     0    5/4    1    中药  \n",
      "45  4.455541e+09   5.835786    5221917  133151  144839     6    1/1    1  医药制造  \n",
      "46  2.382307e+09  34.675644   34014258  133827  133909     1    4/4    4  电子信息  \n",
      "47  8.026264e+09   5.703474   27314514  134030  142903     2    1/1    1  交运设备  \n",
      "48  5.093409e+09   1.634795   13874697  140045  140045     0    1/1    1  商业百货  \n",
      "49  2.595926e+10  20.626673   77162727  140336  142248     2    1/1    1  文化传媒  \n",
      "50  1.529423e+09   5.841513   16796619  140936  143609     1    1/1    1  商业百货  \n",
      "51  1.558212e+10  23.550148    8489295  143336  143836     3    4/3    1  电子信息  \n",
      "52  4.892607e+09  33.202377  212677972  143909  143909     0   10/9    1  交运物流  \n",
      "53  2.061477e+10   5.799077   55137477  144709  144709     0    1/1    1  国际贸易  \n"
     ]
    }
   ],
   "source": [
    "import akshare as ak\n",
    "\n",
    "#涨停统计\n",
    "stock_zt_pool_em_df = ak.stock_zt_pool_em()\n",
    "zhangting=stock_zt_pool_em_df.groupby(by=['所属行业'])\n",
    "print(stock_zt_pool_em_df)\n",
    "zhangting=zhangting.size().sort_values(ascending=True)\n",
    "\n",
    "source=[[\"score\", \"amount\", \"industry\"]]\n",
    " \n",
    "for k,v in enumerate(zhangting):\n",
    "    if v>0:\n",
    "        source.append([v,v,zhangting.index[k]])\n",
    "\n",
    "bar2 = (\n",
    "    Bar(init_opts=opts.InitOpts(width=chart_width))\n",
    "    .add_dataset(\n",
    "        source=source\n",
    "    )\n",
    "    .add_yaxis(\n",
    "        series_name=\"\",\n",
    "        y_axis=[],\n",
    "        encode={\"x\": \"数量\", \"y\": \"industry\"},\n",
    "        label_opts=opts.LabelOpts(is_show=False),\n",
    "    )\n",
    "    .set_global_opts(\n",
    "        title_opts=opts.TitleOpts(title=\"今日涨停分析\"),\n",
    "        xaxis_opts=opts.AxisOpts(name=\"数量\"),\n",
    "        yaxis_opts=opts.AxisOpts(type_=\"category\")\n",
    "    )\n",
    ")"
   ]
  },
  {
   "cell_type": "code",
   "execution_count": 11,
   "id": "f3db8b91",
   "metadata": {
    "ExecuteTime": {
     "end_time": "2022-05-18T13:16:51.241734Z",
     "start_time": "2022-05-18T13:16:50.205990Z"
    }
   },
   "outputs": [
    {
     "name": "stderr",
     "output_type": "stream",
     "text": [
      "                                             \r"
     ]
    },
    {
     "data": {
      "text/plain": [
       "'/data/wwwroot/Notebook/gauge1.html'"
      ]
     },
     "execution_count": 11,
     "metadata": {},
     "output_type": "execute_result"
    }
   ],
   "source": [
    "import akshare as ak\n",
    "stock_zh_index_spot_df = ak.stock_zh_index_spot()\n",
    "gauge1 = (\n",
    "    Gauge(init_opts=opts.InitOpts(width=chart_width))\n",
    "    .add(\n",
    "        \"1\",\n",
    "        [(\"\", stock_zh_index_spot_df.loc[0]['涨跌幅'])],\n",
    "        min_=-5,\n",
    "        max_=5,\n",
    "        axisline_opts=opts.AxisLineOpts(\n",
    "            linestyle_opts=opts.LineStyleOpts(\n",
    "                color=[(0.2,\"#009432\"),(0.4,\"#05c46b\"),(0.5,\"#b8e994\"),(0.6,\"#FEA47F\"),(0.8,\"#ff5e57\"), (1,\"#b33939\")], width=30\n",
    "            )\n",
    "        ),\n",
    "    )\n",
    "    .set_global_opts(\n",
    "        title_opts=opts.TitleOpts(title=\"大盘指数\"),\n",
    "        legend_opts=opts.LegendOpts(is_show=False),\n",
    "    )\n",
    ")\n",
    "\n",
    "gauge1.render('gauge1.html')"
   ]
  },
  {
   "cell_type": "code",
   "execution_count": 12,
   "id": "575e81cb",
   "metadata": {
    "ExecuteTime": {
     "end_time": "2022-05-18T13:16:51.246908Z",
     "start_time": "2022-05-18T13:16:51.243143Z"
    }
   },
   "outputs": [
    {
     "data": {
      "application/javascript": [
       "window.open(\"gauge1.html\");  \n"
      ],
      "text/plain": [
       "<IPython.core.display.Javascript object>"
      ]
     },
     "metadata": {},
     "output_type": "display_data"
    }
   ],
   "source": [
    "%%javascript\n",
    "window.open(\"gauge1.html\");  "
   ]
  },
  {
   "cell_type": "code",
   "execution_count": 13,
   "id": "e8dcba82",
   "metadata": {
    "ExecuteTime": {
     "end_time": "2022-05-18T13:16:51.620886Z",
     "start_time": "2022-05-18T13:16:51.248936Z"
    }
   },
   "outputs": [
    {
     "name": "stderr",
     "output_type": "stream",
     "text": [
      "100%|██████████| 7/7 [00:00<00:00, 32.85it/s]\n",
      "100%|██████████| 2/2 [00:00<00:00, 35.00it/s]\n"
     ]
    }
   ],
   "source": [
    "#概念及行业资金流入\n",
    "import akshare as ak\n",
    "stock_fund_flow_concept_df = ak.stock_fund_flow_concept(symbol=\"即时\")\n",
    "stock_fund_flow_industry_df = ak.stock_fund_flow_industry(symbol=\"即时\")\n",
    "stock_fund_flow_concept_df=stock_fund_flow_concept_df.append(stock_fund_flow_industry_df)\n",
    "moneyflow=stock_fund_flow_concept_df[stock_fund_flow_concept_df['净额']>0]\n",
    "data=[]\n",
    "for idx,row in moneyflow.iterrows():\n",
    "    data.append([row['行业'],row['净额']/row['流入资金']])\n",
    "wc1=(\n",
    "    WordCloud(init_opts=opts.InitOpts(width=chart_width))\n",
    "    .add(series_name=\"热点分析\", data_pair=data, word_size_range=[6, 66])\n",
    "    .set_global_opts(\n",
    "        title_opts=opts.TitleOpts(\n",
    "            title=\"资金热点分析\"\n",
    "        )\n",
    "    )\n",
    ")"
   ]
  },
  {
   "cell_type": "code",
   "execution_count": 14,
   "id": "061525bb",
   "metadata": {
    "ExecuteTime": {
     "end_time": "2022-05-18T13:16:51.644687Z",
     "start_time": "2022-05-18T13:16:51.622698Z"
    }
   },
   "outputs": [],
   "source": [
    "#print(stock_fund_flow_concept_df)\n",
    "import math\n",
    "data_zheng=[]\n",
    "data_fu=[]\n",
    "\n",
    "#stock_fund_flow_industry_df = ak.stock_fund_flow_industry(symbol=\"即时\")\n",
    "zheng=stock_fund_flow_industry_df[stock_fund_flow_industry_df['行业-涨跌幅']>0]\n",
    "fu=stock_fund_flow_industry_df[stock_fund_flow_industry_df['行业-涨跌幅']<0]\n",
    "\n",
    "for idx,row in zheng.iterrows():\n",
    "    data_zheng.append({\"value\": [row['行业-涨跌幅'],row['行业-涨跌幅']], \"name\":row['行业']+\"\\n+\"+str(row['行业-涨跌幅'])})\n",
    "\n",
    "for idx,row in fu.iterrows():\n",
    "    data_fu.append({\"value\": [-row['行业-涨跌幅'],row['行业-涨跌幅']], \"name\":row['行业']+\"\\n\"+str(row['行业-涨跌幅'])})\n",
    "    \n",
    "#print(fu)\n",
    "    \n",
    "    \n",
    "def hsv2rgb(h, s, v):\n",
    "    h = float(h)\n",
    "    s = float(s)\n",
    "    v = float(v)\n",
    "    h60 = h / 60.0\n",
    "    h60f = math.floor(h60)\n",
    "    hi = int(h60f) % 6\n",
    "    f = h60 - h60f\n",
    "    p = v * (1 - s)\n",
    "    q = v * (1 - f * s)\n",
    "    t = v * (1 - (1 - f) * s)\n",
    "    r, g, b = 0, 0, 0\n",
    "    if hi == 0: r, g, b = v, t, p\n",
    "    elif hi == 1: r, g, b = q, v, p\n",
    "    elif hi == 2: r, g, b = p, v, t\n",
    "    elif hi == 3: r, g, b = p, q, v\n",
    "    elif hi == 4: r, g, b = t, p, v\n",
    "    elif hi == 5: r, g, b = v, p, q\n",
    "    r, g, b = int(r * 255), int(g * 255), int(b * 255)\n",
    "    return str(r), str(g), str(b)\n",
    "\n",
    "\n",
    "def red_hsv2rgb(v):\n",
    "    r, g, b = hsv2rgb(700, 0.8, 1 - v)\n",
    "    return \"rgb(\" + r + ',' + g + ',' + b + ')'\n",
    "\n",
    "\n",
    "def green_hsv2rgb(v):\n",
    "    r, g, b = hsv2rgb(500, 0.5, 0.4 + v)\n",
    "    return \"rgb(\" + r + ',' + g + ',' + b + ')'\n",
    "\n",
    "\n",
    "def calc_range(max_rise, min_rise):\n",
    "    rise_range = []\n",
    "    color_range = []\n",
    "    v = 0.5\n",
    "    if min_rise >= 0:  # 都是正数, 只用红色部分\n",
    "        # 将范围值分成一个五部分的数组\n",
    "        piece = (max_rise - min_rise) / 5\n",
    "        set_range(piece, min_rise, rise_range, color_range, red_hsv2rgb)\n",
    "    elif max_rise < 0:  # 都是负数, 只用绿色部分\n",
    "        # 将范围值分成一个五部分的数组\n",
    "        piece = (max_rise - min_rise) / 5\n",
    "        set_range(piece, min_rise, rise_range, color_range, green_hsv2rgb)\n",
    "    else:  # 有负有正, 拆成正负两部分组装数组\n",
    "        # 将范围值分成一个五部分的数组\n",
    "        piece = (0 - min_rise) / 5\n",
    "        set_range(piece, min_rise, rise_range, color_range, green_hsv2rgb, ignore_end=False)\n",
    "\n",
    "        piece = max_rise / 5\n",
    "        set_range(piece, 0, rise_range, color_range, red_hsv2rgb, ignore_start=False)\n",
    "    return color_range, rise_range\n",
    "\n",
    "def set_range(piece, min, rise_range, color_range, transfer, ignore_start=True, ignore_end=True):\n",
    "    for i in range(1, 6):\n",
    "        max = min + piece\n",
    "        if i == 1 and ignore_start:\n",
    "            rise_range.append({'max': max})\n",
    "        elif i == 5 and ignore_end:\n",
    "            rise_range.append({'min': min})\n",
    "        else:\n",
    "            rise_range.append({'min': min, 'max': max})\n",
    "\n",
    "        color_range.append(transfer(0.1 * i))\n",
    "        min = max\n",
    "\n",
    "\n",
    "color_range, rise_range=calc_range(5,-5)\n",
    "\n",
    "data = [\n",
    "    {\n",
    "        \"value\": 180,\n",
    "        \"name\": \"全部行业\",\n",
    "        \"children\": [\n",
    "                        {\n",
    "                \"value\": 180,\n",
    "                \"name\": \"下跌行业\",\n",
    "                \"children\": data_fu\n",
    "            },\n",
    "            {\n",
    "                \"value\": 180,\n",
    "                \"name\": \"上涨行业\",\n",
    "                \"children\": data_zheng\n",
    "            },\n",
    "\n",
    "        ],\n",
    "    },\n",
    "]\n",
    "    \n",
    "    \n",
    "    \n",
    "tm1 = (\n",
    "    TreeMap(init_opts=opts.InitOpts(width=chart_width))\n",
    "    .add(\"全部行业\", data, levels=[\n",
    "               opts.TreeMapLevelsOpts(\n",
    "                   treemap_itemstyle_opts=opts.TreeMapItemStyleOpts(gap_width=1, stroke_width=1, stroke_color='#fff'),\n",
    "               )\n",
    "           ],\n",
    "        color_mapping_by='value',\n",
    "        roam=False,\n",
    "    )\n",
    "    .set_global_opts(\n",
    "        title_opts=opts.TitleOpts(title=\"涨跌板块跟踪\"),\n",
    "        visualmap_opts=opts.VisualMapOpts(is_show=False,\n",
    "                                                         type_='color',\n",
    "                                                         min_=-5,\n",
    "                                                         max_=5,\n",
    "                                                         range_color=color_range,\n",
    "                                                         # 指定使用的数据维度\n",
    "                                                         dimension=1,\n",
    "                                                         is_piecewise=True,\n",
    "                                                         pieces=rise_range\n",
    "                                                         ),        \n",
    "        \n",
    "    )\n",
    ")"
   ]
  },
  {
   "cell_type": "code",
   "execution_count": 15,
   "id": "1709c1e7",
   "metadata": {
    "ExecuteTime": {
     "end_time": "2022-05-18T13:16:51.658699Z",
     "start_time": "2022-05-18T13:16:51.646671Z"
    }
   },
   "outputs": [
    {
     "data": {
      "text/plain": [
       "'/data/wwwroot/Notebook/dashboard.html'"
      ]
     },
     "execution_count": 15,
     "metadata": {},
     "output_type": "execute_result"
    }
   ],
   "source": [
    "page = Page(layout=Page.SimplePageLayout)\n",
    "page.add(gauge1,pie1,bar1,bar2,wc1,tm1)\n",
    "page.render('dashboard.html')"
   ]
  },
  {
   "cell_type": "code",
   "execution_count": null,
   "id": "63748156",
   "metadata": {
    "ExecuteTime": {
     "end_time": "2022-05-18T11:50:30.422842Z",
     "start_time": "2022-05-18T11:50:30.416703Z"
    }
   },
   "outputs": [],
   "source": []
  },
  {
   "cell_type": "code",
   "execution_count": null,
   "id": "a74c28b7",
   "metadata": {},
   "outputs": [],
   "source": []
  },
  {
   "cell_type": "code",
   "execution_count": null,
   "id": "dc7feecd",
   "metadata": {},
   "outputs": [],
   "source": []
  }
 ],
 "metadata": {
  "kernelspec": {
   "display_name": "Python 3 (ipykernel)",
   "language": "python",
   "name": "python3"
  },
  "language_info": {
   "codemirror_mode": {
    "name": "ipython",
    "version": 3
   },
   "file_extension": ".py",
   "mimetype": "text/x-python",
   "name": "python",
   "nbconvert_exporter": "python",
   "pygments_lexer": "ipython3",
   "version": "3.8.13"
  }
 },
 "nbformat": 4,
 "nbformat_minor": 5
}
